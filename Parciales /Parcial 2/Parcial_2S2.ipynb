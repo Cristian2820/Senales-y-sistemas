{
  "nbformat": 4,
  "nbformat_minor": 0,
  "metadata": {
    "colab": {
      "provenance": [],
      "authorship_tag": "ABX9TyOdQ2lHBhmJlU/wTXaxwB3d",
      "include_colab_link": true
    },
    "kernelspec": {
      "name": "python3",
      "display_name": "Python 3"
    },
    "language_info": {
      "name": "python"
    }
  },
  "cells": [
    {
      "cell_type": "markdown",
      "metadata": {
        "id": "view-in-github",
        "colab_type": "text"
      },
      "source": [
        "<a href=\"https://colab.research.google.com/github/Cristian2820/Senales-y-sistemas/blob/main/Parciales%20/Parcial%202/Parcial_2S2.ipynb\" target=\"_parent\"><img src=\"https://colab.research.google.com/assets/colab-badge.svg\" alt=\"Open In Colab\"/></a>"
      ]
    },
    {
      "cell_type": "markdown",
      "source": [
        "# 3. Preguntas"
      ],
      "metadata": {
        "id": "uTCUJRwbKnGW"
      }
    },
    {
      "cell_type": "markdown",
      "source": [
        "**Consulte en que consiste la distorsión total de armónicos (Total Harmonic Distortion-(THD)) y el factor de potencia en un circuito eléctrico. Como puede calcularse el THD desde la FFT?. Como puede calcularse la distorsión del factor de potencia con base al THD?. Genere un ejemplo ilustrativo para el cálculo del THD y la distorsión del factor de potencia para un rectificador de onda completa con carga: i) netamente resistiva y ii) carga RC en serie. Establezca las condiciones necesarias para las simulaciones. El usuario podrá escoger diferentes valores de R y C.**"
      ],
      "metadata": {
        "id": "uaabhippKA-O"
      }
    },
    {
      "cell_type": "markdown",
      "source": [
        "**Distorsión Total de Armónicos:** La Distorsión Total de Armónicos (THD, por sus siglas en inglés: Total Harmonic Distortion) es una medida de la distorsión que afecta a una señal debido a la presencia de armónicas. Las armónicas son componentes de frecuencia múltiplos enteros de la frecuencia fundamental de una señal. En un sistema eléctrico ideal, las señales de voltaje y corriente son senoidales (es decir, tienen solo una frecuencia fundamental). Sin embargo, debido a la no linealidad de algunos equipos, como rectificadores, motores o dispositivos electrónicos, se generan armónicas que distorsionan la forma de onda original.\n",
        "\n",
        "El THD se calcula como la relación entre la potencia de las armónicas y la potencia de la frecuencia fundamental. De manera más formal, el THD es:\n",
        "\n",
        "$$THD = \\frac{\\sqrt{A_2^2 + A_3^2 + A_4^2 + \\dots}}{A_1}$$\n",
        "\n",
        "Donde:\n",
        "\n",
        "- $A_1$ es la amplitud de la frecuencia fundamental (la frecuencia más baja).\n",
        "- $A_n$ son las amplitudes de las armónicas (componentes de frecuencias múltiplos de la frecuencia fundamental).\n",
        "\n",
        "El THD se expresa como un porcentaje, y cuanto mayor es el THD, mayor es la distorsión de la señal. Un THD bajo indica que la señal es muy parecida a una onda sinusoidal ideal, mientras que un THD alto sugiere una mayor distorsión, lo que puede llevar a una mayor generación de calor y pérdidas de eficiencia en equipos eléctricos.\n",
        "\n",
        "-------------------------------\n",
        "\n",
        "**Factor de Potencia (FP):** El factor de potencia es una medida de la eficiencia con la que un circuito eléctrico utiliza la energía suministrada. En términos sencillos, es la relación entre la potencia activa (o real) $P$ y la potencia aparente $S$, y se expresa como:\n",
        "\n",
        "$$FP = \\frac{P}{S} = \\cos(\\theta)$$\n",
        "\n",
        "Donde:\n",
        "\n",
        "- **P** es la potencia activa (en vatios), que es la energía que realiza trabajo útil en el circuito (por ejemplo, mueve un motor o ilumina una lámpara).\n",
        "- **S** es la potencia aparente (en voltamperios), que es la potencia total suministrada al circuito, que incluye tanto la potencia activa como la potencia reactiva (debida a componentes inductivos y capacitivos).\n",
        "- **θ** es el ángulo de desfase entre la corriente y el voltaje.\n",
        "\n",
        "El factor de potencia tiene un valor entre 0 y 1, y es más cercano a 1 cuando la corriente y el voltaje están alineados en fase (como en una carga resistiva pura). Un factor de potencia bajo indica una mayor presencia de potencia reactiva, lo que significa que parte de la energía no se está utilizando de manera efectiva.\n",
        "\n",
        "---------------------\n",
        "\n",
        "Para calcular el THD desde la FFT, se realiza el siguiente proceso:\n",
        "\n",
        "1. Aplicar la FFT a la señal para obtener las amplitudes de las frecuencias presentes.\n",
        "2. Identificar la frecuencia fundamental $A_1$ y las armónicas $A_2$, $A_3$, $A_4$, ....\n",
        "\n",
        "----------------------\n",
        "\n",
        "El THD (Distorsión Total de Armónicos) puede afectar el factor de potencia en un circuito eléctrico, ya que las armónicas introducen un desfase adicional entre la corriente y el voltaje. Un mayor THD generalmente indica una mayor distorsión, lo que reduce el factor de potencia.\n",
        "\n",
        "Relación entre THD y el factor de potencia:\n",
        "El factor de potencia distorsionado (FP\n",
        "distorsionado) se puede calcular aproximando la fórmula:\n",
        "\n",
        "$$FP_{distorsionado} \\approx \\frac{FP_{ideal}}{\\sqrt{1 + THD^2}}$$\n",
        "\n",
        "Donde:\n",
        "\n",
        "- FP ideal es el factor de potencia sin armónicas (idealmente 1).\n",
        "-THD es la distorsión total de armónicos en la señal (como un valor decimal)."
      ],
      "metadata": {
        "id": "9lRrfjhoMKFG"
      }
    }
  ]
}